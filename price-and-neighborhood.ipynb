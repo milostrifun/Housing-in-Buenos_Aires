{
 "cells": [
  {
   "cell_type": "markdown",
   "source": [
    "<font size=\"+3\"><strong>Predicting Price with Neighborhood</strong></font>"
   ],
   "metadata": {
    "collapsed": false
   }
  },
  {
   "cell_type": "code",
   "execution_count": 46,
   "outputs": [],
   "source": [
    "import warnings\n",
    "from glob import glob\n",
    "\n",
    "import matplotlib.pyplot as plt\n",
    "import numpy as np\n",
    "import pandas as pd\n",
    "from category_encoders import OneHotEncoder\n",
    "from sklearn.linear_model import LinearRegression, Ridge  # noqa F401\n",
    "from sklearn.metrics import mean_absolute_error\n",
    "from sklearn.pipeline import make_pipeline\n",
    "from sklearn.utils.validation import check_is_fitted"
   ],
   "metadata": {
    "collapsed": false
   }
  },
  {
   "cell_type": "markdown",
   "source": [
    "# Prepare Data"
   ],
   "metadata": {
    "collapsed": false
   }
  },
  {
   "cell_type": "markdown",
   "source": [
    "## Import"
   ],
   "metadata": {
    "collapsed": false
   }
  },
  {
   "cell_type": "code",
   "execution_count": 47,
   "outputs": [],
   "source": [
    "def wrangle(filepath):\n",
    "    # Read CSV file\n",
    "    df = pd.read_excel(filepath)\n",
    "\n",
    "    # Subset data: Apartments in \"Capital Federal\", less than 400,000\n",
    "    mask_ba = df[\"place_with_parent_names\"].str.contains(\"Capital Federal\")\n",
    "    mask_apt = df[\"property_type\"] == \"apartment\"\n",
    "    mask_price = df[\"price_aprox_usd\"] < 400_000\n",
    "    df = df[mask_ba & mask_apt & mask_price]\n",
    "\n",
    "    # Subset data: Remove outliers for \"surface_covered_in_m2\"\n",
    "    low, high = df[\"surface_covered_in_m2\"].quantile([0.1, 0.9])\n",
    "    mask_area = df[\"surface_covered_in_m2\"].between(low, high)\n",
    "    df = df[mask_area]\n",
    "\n",
    "    # Split \"lat-lon\" column\n",
    "    df[[\"lat\", \"lon\"]] = df[\"lat-lon\"].str.split(\",\", expand=True).astype(float)\n",
    "    df.drop(columns=\"lat-lon\", inplace=True)\n",
    "\n",
    "    # Extract neighborhood\n",
    "    df[\"neighborhood\"] = df[\"place_with_parent_names\"].str.split(\"|\",expand=True)[3]\n",
    "    df.drop(columns=\"place_with_parent_names\",inplace=True)\n",
    "\n",
    "    return df"
   ],
   "metadata": {
    "collapsed": false
   }
  },
  {
   "cell_type": "markdown",
   "source": [
    "Use [`glob`](https://docs.python.org/3/library/glob.html#glob.glob) to create a list that contains the filenames for all the Buenos Aires real estate XLSX files in the `data` directory. Assign this list to the variable name `files`."
   ],
   "metadata": {
    "collapsed": false
   }
  },
  {
   "cell_type": "code",
   "execution_count": 48,
   "outputs": [
    {
     "data": {
      "text/plain": "['buenos-aires-real-estate-1.xlsx',\n 'buenos-aires-real-estate-2.xlsx',\n 'buenos-aires-real-estate-3.xlsx',\n 'buenos-aires-real-estate-4.xlsx',\n 'buenos-aires-real-estate-5.xlsx']"
     },
     "execution_count": 48,
     "metadata": {},
     "output_type": "execute_result"
    }
   ],
   "source": [
    "files = glob(\"buenos-aires-real-estate-*.xlsx\")\n",
    "files"
   ],
   "metadata": {
    "collapsed": false
   }
  },
  {
   "cell_type": "markdown",
   "source": [
    "Use the `wrangle` function in a `for` loop to create a list named `frames`. The list should the cleaned DataFrames created from the XLSX filenames  collected in `files`."
   ],
   "metadata": {
    "collapsed": false
   }
  },
  {
   "cell_type": "code",
   "execution_count": 49,
   "outputs": [],
   "source": [
    "frames = []\n",
    "for file in files:\n",
    "    df = wrangle(file)\n",
    "    frames.append(df)\n"
   ],
   "metadata": {
    "collapsed": false
   }
  },
  {
   "cell_type": "code",
   "execution_count": 50,
   "outputs": [
    {
     "data": {
      "text/plain": "   operation property_type     price currency  price_aprox_local_currency  \\\n4       sell     apartment  129000.0      USD                   1955949.6   \n9       sell     apartment   87000.0      USD                   1319128.8   \n29      sell     apartment  118000.0      USD                   1789163.2   \n40      sell     apartment   57000.0      USD                    864256.8   \n41      sell     apartment   90000.0      USD                   1364616.0   \n\n    price_aprox_usd  surface_total_in_m2  surface_covered_in_m2  \\\n4          129000.0                 76.0                   70.0   \n9           87000.0                 48.0                   42.0   \n29         118000.0                  NaN                   54.0   \n40          57000.0                 42.0                   42.0   \n41          90000.0                 57.0                   50.0   \n\n    price_usd_per_m2  price_per_m2  floor  rooms  expenses  \\\n4       1.697368e+16  1.842857e+15    NaN    NaN       NaN   \n9       1.812500e+03  2.071429e+15    NaN    NaN       NaN   \n29               NaN  2.185185e+15    NaN    2.0       NaN   \n40      1.357143e+15  1.357143e+15    5.0    2.0     364.0   \n41      1.578947e+16  1.800000e+03    NaN    3.0     450.0   \n\n                                        properati_url        lat        lon  \\\n4   http://chacarita.properati.com.ar/10qlv_venta_... -34.584651 -58.454693   \n9   http://villa-luro.properati.com.ar/12m82_venta... -34.638979 -58.500115   \n29  http://caballito.properati.com.ar/11wqh_venta_... -34.615847 -58.459957   \n40  http://constitucion.properati.com.ar/k2f0_vent... -34.625222 -58.382382   \n41  http://once.properati.com.ar/suwa_venta_depart... -34.610610 -58.412511   \n\n    neighborhood  \n4      Chacarita  \n9     Villa Luro  \n29     Caballito  \n40  Constitución  \n41          Once  ",
      "text/html": "<div>\n<style scoped>\n    .dataframe tbody tr th:only-of-type {\n        vertical-align: middle;\n    }\n\n    .dataframe tbody tr th {\n        vertical-align: top;\n    }\n\n    .dataframe thead th {\n        text-align: right;\n    }\n</style>\n<table border=\"1\" class=\"dataframe\">\n  <thead>\n    <tr style=\"text-align: right;\">\n      <th></th>\n      <th>operation</th>\n      <th>property_type</th>\n      <th>price</th>\n      <th>currency</th>\n      <th>price_aprox_local_currency</th>\n      <th>price_aprox_usd</th>\n      <th>surface_total_in_m2</th>\n      <th>surface_covered_in_m2</th>\n      <th>price_usd_per_m2</th>\n      <th>price_per_m2</th>\n      <th>floor</th>\n      <th>rooms</th>\n      <th>expenses</th>\n      <th>properati_url</th>\n      <th>lat</th>\n      <th>lon</th>\n      <th>neighborhood</th>\n    </tr>\n  </thead>\n  <tbody>\n    <tr>\n      <th>4</th>\n      <td>sell</td>\n      <td>apartment</td>\n      <td>129000.0</td>\n      <td>USD</td>\n      <td>1955949.6</td>\n      <td>129000.0</td>\n      <td>76.0</td>\n      <td>70.0</td>\n      <td>1.697368e+16</td>\n      <td>1.842857e+15</td>\n      <td>NaN</td>\n      <td>NaN</td>\n      <td>NaN</td>\n      <td>http://chacarita.properati.com.ar/10qlv_venta_...</td>\n      <td>-34.584651</td>\n      <td>-58.454693</td>\n      <td>Chacarita</td>\n    </tr>\n    <tr>\n      <th>9</th>\n      <td>sell</td>\n      <td>apartment</td>\n      <td>87000.0</td>\n      <td>USD</td>\n      <td>1319128.8</td>\n      <td>87000.0</td>\n      <td>48.0</td>\n      <td>42.0</td>\n      <td>1.812500e+03</td>\n      <td>2.071429e+15</td>\n      <td>NaN</td>\n      <td>NaN</td>\n      <td>NaN</td>\n      <td>http://villa-luro.properati.com.ar/12m82_venta...</td>\n      <td>-34.638979</td>\n      <td>-58.500115</td>\n      <td>Villa Luro</td>\n    </tr>\n    <tr>\n      <th>29</th>\n      <td>sell</td>\n      <td>apartment</td>\n      <td>118000.0</td>\n      <td>USD</td>\n      <td>1789163.2</td>\n      <td>118000.0</td>\n      <td>NaN</td>\n      <td>54.0</td>\n      <td>NaN</td>\n      <td>2.185185e+15</td>\n      <td>NaN</td>\n      <td>2.0</td>\n      <td>NaN</td>\n      <td>http://caballito.properati.com.ar/11wqh_venta_...</td>\n      <td>-34.615847</td>\n      <td>-58.459957</td>\n      <td>Caballito</td>\n    </tr>\n    <tr>\n      <th>40</th>\n      <td>sell</td>\n      <td>apartment</td>\n      <td>57000.0</td>\n      <td>USD</td>\n      <td>864256.8</td>\n      <td>57000.0</td>\n      <td>42.0</td>\n      <td>42.0</td>\n      <td>1.357143e+15</td>\n      <td>1.357143e+15</td>\n      <td>5.0</td>\n      <td>2.0</td>\n      <td>364.0</td>\n      <td>http://constitucion.properati.com.ar/k2f0_vent...</td>\n      <td>-34.625222</td>\n      <td>-58.382382</td>\n      <td>Constitución</td>\n    </tr>\n    <tr>\n      <th>41</th>\n      <td>sell</td>\n      <td>apartment</td>\n      <td>90000.0</td>\n      <td>USD</td>\n      <td>1364616.0</td>\n      <td>90000.0</td>\n      <td>57.0</td>\n      <td>50.0</td>\n      <td>1.578947e+16</td>\n      <td>1.800000e+03</td>\n      <td>NaN</td>\n      <td>3.0</td>\n      <td>450.0</td>\n      <td>http://once.properati.com.ar/suwa_venta_depart...</td>\n      <td>-34.610610</td>\n      <td>-58.412511</td>\n      <td>Once</td>\n    </tr>\n  </tbody>\n</table>\n</div>"
     },
     "execution_count": 50,
     "metadata": {},
     "output_type": "execute_result"
    }
   ],
   "source": [
    "frames[0].head()"
   ],
   "metadata": {
    "collapsed": false
   }
  },
  {
   "cell_type": "code",
   "execution_count": 51,
   "outputs": [],
   "source": [
    "# Check the work\n",
    "assert len(frames) == 5, f\"`frames` should contain 5 items, not {len(frames)}\"\n",
    "assert all(\n",
    "    [isinstance(frame, pd.DataFrame) for frame in frames]\n",
    "), \"The items in `frames` should all be DataFrames.\""
   ],
   "metadata": {
    "collapsed": false
   }
  },
  {
   "cell_type": "markdown",
   "source": [
    "Use [`pd.concat`](https://pandas.pydata.org/docs/reference/api/pandas.concat.html) to concatenate the items in `frames` into a single DataFrame `df`. Set the `ignore_index` argument to `True`.\n"
   ],
   "metadata": {
    "collapsed": false
   }
  },
  {
   "cell_type": "code",
   "execution_count": 52,
   "outputs": [
    {
     "data": {
      "text/plain": "  operation property_type     price currency  price_aprox_local_currency  \\\n0      sell     apartment  129000.0      USD                   1955949.6   \n1      sell     apartment   87000.0      USD                   1319128.8   \n2      sell     apartment  118000.0      USD                   1789163.2   \n3      sell     apartment   57000.0      USD                    864256.8   \n4      sell     apartment   90000.0      USD                   1364616.0   \n\n   price_aprox_usd  surface_total_in_m2  surface_covered_in_m2  \\\n0         129000.0                 76.0                   70.0   \n1          87000.0                 48.0                   42.0   \n2         118000.0                  NaN                   54.0   \n3          57000.0                 42.0                   42.0   \n4          90000.0                 57.0                   50.0   \n\n   price_usd_per_m2  price_per_m2  floor  rooms  expenses  \\\n0      1.697368e+16  1.842857e+15    NaN    NaN       NaN   \n1      1.812500e+03  2.071429e+15    NaN    NaN       NaN   \n2               NaN  2.185185e+15    NaN    2.0       NaN   \n3      1.357143e+15  1.357143e+15    5.0    2.0     364.0   \n4      1.578947e+16  1.800000e+03    NaN    3.0     450.0   \n\n                                       properati_url        lat        lon  \\\n0  http://chacarita.properati.com.ar/10qlv_venta_... -34.584651 -58.454693   \n1  http://villa-luro.properati.com.ar/12m82_venta... -34.638979 -58.500115   \n2  http://caballito.properati.com.ar/11wqh_venta_... -34.615847 -58.459957   \n3  http://constitucion.properati.com.ar/k2f0_vent... -34.625222 -58.382382   \n4  http://once.properati.com.ar/suwa_venta_depart... -34.610610 -58.412511   \n\n   neighborhood  \n0     Chacarita  \n1    Villa Luro  \n2     Caballito  \n3  Constitución  \n4          Once  ",
      "text/html": "<div>\n<style scoped>\n    .dataframe tbody tr th:only-of-type {\n        vertical-align: middle;\n    }\n\n    .dataframe tbody tr th {\n        vertical-align: top;\n    }\n\n    .dataframe thead th {\n        text-align: right;\n    }\n</style>\n<table border=\"1\" class=\"dataframe\">\n  <thead>\n    <tr style=\"text-align: right;\">\n      <th></th>\n      <th>operation</th>\n      <th>property_type</th>\n      <th>price</th>\n      <th>currency</th>\n      <th>price_aprox_local_currency</th>\n      <th>price_aprox_usd</th>\n      <th>surface_total_in_m2</th>\n      <th>surface_covered_in_m2</th>\n      <th>price_usd_per_m2</th>\n      <th>price_per_m2</th>\n      <th>floor</th>\n      <th>rooms</th>\n      <th>expenses</th>\n      <th>properati_url</th>\n      <th>lat</th>\n      <th>lon</th>\n      <th>neighborhood</th>\n    </tr>\n  </thead>\n  <tbody>\n    <tr>\n      <th>0</th>\n      <td>sell</td>\n      <td>apartment</td>\n      <td>129000.0</td>\n      <td>USD</td>\n      <td>1955949.6</td>\n      <td>129000.0</td>\n      <td>76.0</td>\n      <td>70.0</td>\n      <td>1.697368e+16</td>\n      <td>1.842857e+15</td>\n      <td>NaN</td>\n      <td>NaN</td>\n      <td>NaN</td>\n      <td>http://chacarita.properati.com.ar/10qlv_venta_...</td>\n      <td>-34.584651</td>\n      <td>-58.454693</td>\n      <td>Chacarita</td>\n    </tr>\n    <tr>\n      <th>1</th>\n      <td>sell</td>\n      <td>apartment</td>\n      <td>87000.0</td>\n      <td>USD</td>\n      <td>1319128.8</td>\n      <td>87000.0</td>\n      <td>48.0</td>\n      <td>42.0</td>\n      <td>1.812500e+03</td>\n      <td>2.071429e+15</td>\n      <td>NaN</td>\n      <td>NaN</td>\n      <td>NaN</td>\n      <td>http://villa-luro.properati.com.ar/12m82_venta...</td>\n      <td>-34.638979</td>\n      <td>-58.500115</td>\n      <td>Villa Luro</td>\n    </tr>\n    <tr>\n      <th>2</th>\n      <td>sell</td>\n      <td>apartment</td>\n      <td>118000.0</td>\n      <td>USD</td>\n      <td>1789163.2</td>\n      <td>118000.0</td>\n      <td>NaN</td>\n      <td>54.0</td>\n      <td>NaN</td>\n      <td>2.185185e+15</td>\n      <td>NaN</td>\n      <td>2.0</td>\n      <td>NaN</td>\n      <td>http://caballito.properati.com.ar/11wqh_venta_...</td>\n      <td>-34.615847</td>\n      <td>-58.459957</td>\n      <td>Caballito</td>\n    </tr>\n    <tr>\n      <th>3</th>\n      <td>sell</td>\n      <td>apartment</td>\n      <td>57000.0</td>\n      <td>USD</td>\n      <td>864256.8</td>\n      <td>57000.0</td>\n      <td>42.0</td>\n      <td>42.0</td>\n      <td>1.357143e+15</td>\n      <td>1.357143e+15</td>\n      <td>5.0</td>\n      <td>2.0</td>\n      <td>364.0</td>\n      <td>http://constitucion.properati.com.ar/k2f0_vent...</td>\n      <td>-34.625222</td>\n      <td>-58.382382</td>\n      <td>Constitución</td>\n    </tr>\n    <tr>\n      <th>4</th>\n      <td>sell</td>\n      <td>apartment</td>\n      <td>90000.0</td>\n      <td>USD</td>\n      <td>1364616.0</td>\n      <td>90000.0</td>\n      <td>57.0</td>\n      <td>50.0</td>\n      <td>1.578947e+16</td>\n      <td>1.800000e+03</td>\n      <td>NaN</td>\n      <td>3.0</td>\n      <td>450.0</td>\n      <td>http://once.properati.com.ar/suwa_venta_depart...</td>\n      <td>-34.610610</td>\n      <td>-58.412511</td>\n      <td>Once</td>\n    </tr>\n  </tbody>\n</table>\n</div>"
     },
     "execution_count": 52,
     "metadata": {},
     "output_type": "execute_result"
    }
   ],
   "source": [
    "df = pd.concat(frames, ignore_index=True)\n",
    "df.head()"
   ],
   "metadata": {
    "collapsed": false
   }
  },
  {
   "cell_type": "code",
   "execution_count": 53,
   "outputs": [
    {
     "data": {
      "text/plain": "(6582, 17)"
     },
     "execution_count": 53,
     "metadata": {},
     "output_type": "execute_result"
    }
   ],
   "source": [
    "df.shape"
   ],
   "metadata": {
    "collapsed": false
   }
  },
  {
   "cell_type": "markdown",
   "source": [
    "## Explore"
   ],
   "metadata": {
    "collapsed": false
   }
  },
  {
   "cell_type": "markdown",
   "source": [
    "Modify the `wrangle` function to create a new feature `\"neighborhood\"`. Neighborhood for each property is located in the `\"place_with_parent_names\"` column. For example, a property with the place name `\"|Argentina|Capital Federal|Palermo|\"` is located in the neighborhood is `\"Palermo\"`. Also, the function should drop the `\"place_with_parent_names\"` column."
   ],
   "metadata": {
    "collapsed": false
   }
  },
  {
   "cell_type": "code",
   "execution_count": 54,
   "outputs": [],
   "source": [
    "# Check the work\n",
    "assert df.shape == (6582, 17), f\"`df` is the wrong size: {df.shape}.\"\n",
    "assert (\n",
    "        \"place_with_parent_names\" not in df\n",
    "), 'Remember to remove the `\"place_with_parent_names\"` column.'"
   ],
   "metadata": {
    "collapsed": false
   }
  },
  {
   "cell_type": "markdown",
   "source": [
    "## Split"
   ],
   "metadata": {
    "collapsed": false
   }
  },
  {
   "cell_type": "markdown",
   "source": [
    "Create the feature matrix `X_train` and target vector `y_train`. `X_train` should contain one feature: `\"neighborhood\"`. The target is `\"price_aprox_usd\"`."
   ],
   "metadata": {
    "collapsed": false
   }
  },
  {
   "cell_type": "code",
   "execution_count": 55,
   "outputs": [],
   "source": [
    "target = \"price_aprox_usd\"\n",
    "features = [\"neighborhood\"]\n",
    "y_train = df[target]\n",
    "X_train = df[features]"
   ],
   "metadata": {
    "collapsed": false
   }
  },
  {
   "cell_type": "code",
   "execution_count": 56,
   "outputs": [],
   "source": [
    "# Check the work\n",
    "assert X_train.shape == (6582, 1), f\"`X_train` is the wrong size: {X_train.shape}.\"\n",
    "assert y_train.shape == (6582,), f\"`y_train` is the wrong size: {y_train.shape}.\""
   ],
   "metadata": {
    "collapsed": false
   }
  },
  {
   "cell_type": "markdown",
   "source": [
    "# Build Model"
   ],
   "metadata": {
    "collapsed": false
   }
  },
  {
   "cell_type": "markdown",
   "source": [
    "## Baseline"
   ],
   "metadata": {
    "collapsed": false
   }
  },
  {
   "cell_type": "markdown",
   "source": [
    "Calculate the baseline mean absolute error for the model."
   ],
   "metadata": {
    "collapsed": false
   }
  },
  {
   "cell_type": "code",
   "execution_count": 57,
   "outputs": [
    {
     "name": "stdout",
     "output_type": "stream",
     "text": [
      "Mean apt price: 132383.83701458527\n",
      "Baseline MAE: 44860.10834274134\n"
     ]
    }
   ],
   "source": [
    "y_mean = y_train.mean()\n",
    "y_pred_baseline = [y_mean] * len(y_train)\n",
    "print(\"Mean apt price:\", y_mean)\n",
    "\n",
    "print(\"Baseline MAE:\", mean_absolute_error(y_train,y_pred_baseline))"
   ],
   "metadata": {
    "collapsed": false
   }
  },
  {
   "cell_type": "markdown",
   "source": [
    "## Iterate"
   ],
   "metadata": {
    "collapsed": false
   }
  },
  {
   "cell_type": "markdown",
   "source": [
    "First, instantiate a `OneHotEncoder` named `ohe`. Set the `use_cat_names` argument to `True`. Next, fit the transformer to the feature matrix `X_train`. Use the encoder to transform the feature matrix `X_train`, and assign the transformed data to the variable `XT_train`.\n"
   ],
   "metadata": {
    "collapsed": false
   }
  },
  {
   "cell_type": "code",
   "execution_count": 58,
   "outputs": [
    {
     "name": "stdout",
     "output_type": "stream",
     "text": [
      "(6582, 57)\n"
     ]
    },
    {
     "data": {
      "text/plain": "   neighborhood_Chacarita  neighborhood_Villa Luro  neighborhood_Caballito  \\\n0                       1                        0                       0   \n1                       0                        1                       0   \n2                       0                        0                       1   \n3                       0                        0                       0   \n4                       0                        0                       0   \n\n   neighborhood_Constitución  neighborhood_Once  neighborhood_Almagro  \\\n0                          0                  0                     0   \n1                          0                  0                     0   \n2                          0                  0                     0   \n3                          1                  0                     0   \n4                          0                  1                     0   \n\n   neighborhood_Palermo  neighborhood_Flores  neighborhood_Belgrano  \\\n0                     0                    0                      0   \n1                     0                    0                      0   \n2                     0                    0                      0   \n3                     0                    0                      0   \n4                     0                    0                      0   \n\n   neighborhood_Liniers  ...  neighborhood_Puerto Madero  \\\n0                     0  ...                           0   \n1                     0  ...                           0   \n2                     0  ...                           0   \n3                     0  ...                           0   \n4                     0  ...                           0   \n\n   neighborhood_Agronomía  neighborhood_Monte Castro  neighborhood_Tribunales  \\\n0                       0                          0                        0   \n1                       0                          0                        0   \n2                       0                          0                        0   \n3                       0                          0                        0   \n4                       0                          0                        0   \n\n   neighborhood_Villa Santa Rita  neighborhood_Velez Sarsfield  \\\n0                              0                             0   \n1                              0                             0   \n2                              0                             0   \n3                              0                             0   \n4                              0                             0   \n\n   neighborhood_Villa Soldati  neighborhood_Villa Real  neighborhood_Pompeya  \\\n0                           0                        0                     0   \n1                           0                        0                     0   \n2                           0                        0                     0   \n3                           0                        0                     0   \n4                           0                        0                     0   \n\n   neighborhood_Catalinas  \n0                       0  \n1                       0  \n2                       0  \n3                       0  \n4                       0  \n\n[5 rows x 57 columns]",
      "text/html": "<div>\n<style scoped>\n    .dataframe tbody tr th:only-of-type {\n        vertical-align: middle;\n    }\n\n    .dataframe tbody tr th {\n        vertical-align: top;\n    }\n\n    .dataframe thead th {\n        text-align: right;\n    }\n</style>\n<table border=\"1\" class=\"dataframe\">\n  <thead>\n    <tr style=\"text-align: right;\">\n      <th></th>\n      <th>neighborhood_Chacarita</th>\n      <th>neighborhood_Villa Luro</th>\n      <th>neighborhood_Caballito</th>\n      <th>neighborhood_Constitución</th>\n      <th>neighborhood_Once</th>\n      <th>neighborhood_Almagro</th>\n      <th>neighborhood_Palermo</th>\n      <th>neighborhood_Flores</th>\n      <th>neighborhood_Belgrano</th>\n      <th>neighborhood_Liniers</th>\n      <th>...</th>\n      <th>neighborhood_Puerto Madero</th>\n      <th>neighborhood_Agronomía</th>\n      <th>neighborhood_Monte Castro</th>\n      <th>neighborhood_Tribunales</th>\n      <th>neighborhood_Villa Santa Rita</th>\n      <th>neighborhood_Velez Sarsfield</th>\n      <th>neighborhood_Villa Soldati</th>\n      <th>neighborhood_Villa Real</th>\n      <th>neighborhood_Pompeya</th>\n      <th>neighborhood_Catalinas</th>\n    </tr>\n  </thead>\n  <tbody>\n    <tr>\n      <th>0</th>\n      <td>1</td>\n      <td>0</td>\n      <td>0</td>\n      <td>0</td>\n      <td>0</td>\n      <td>0</td>\n      <td>0</td>\n      <td>0</td>\n      <td>0</td>\n      <td>0</td>\n      <td>...</td>\n      <td>0</td>\n      <td>0</td>\n      <td>0</td>\n      <td>0</td>\n      <td>0</td>\n      <td>0</td>\n      <td>0</td>\n      <td>0</td>\n      <td>0</td>\n      <td>0</td>\n    </tr>\n    <tr>\n      <th>1</th>\n      <td>0</td>\n      <td>1</td>\n      <td>0</td>\n      <td>0</td>\n      <td>0</td>\n      <td>0</td>\n      <td>0</td>\n      <td>0</td>\n      <td>0</td>\n      <td>0</td>\n      <td>...</td>\n      <td>0</td>\n      <td>0</td>\n      <td>0</td>\n      <td>0</td>\n      <td>0</td>\n      <td>0</td>\n      <td>0</td>\n      <td>0</td>\n      <td>0</td>\n      <td>0</td>\n    </tr>\n    <tr>\n      <th>2</th>\n      <td>0</td>\n      <td>0</td>\n      <td>1</td>\n      <td>0</td>\n      <td>0</td>\n      <td>0</td>\n      <td>0</td>\n      <td>0</td>\n      <td>0</td>\n      <td>0</td>\n      <td>...</td>\n      <td>0</td>\n      <td>0</td>\n      <td>0</td>\n      <td>0</td>\n      <td>0</td>\n      <td>0</td>\n      <td>0</td>\n      <td>0</td>\n      <td>0</td>\n      <td>0</td>\n    </tr>\n    <tr>\n      <th>3</th>\n      <td>0</td>\n      <td>0</td>\n      <td>0</td>\n      <td>1</td>\n      <td>0</td>\n      <td>0</td>\n      <td>0</td>\n      <td>0</td>\n      <td>0</td>\n      <td>0</td>\n      <td>...</td>\n      <td>0</td>\n      <td>0</td>\n      <td>0</td>\n      <td>0</td>\n      <td>0</td>\n      <td>0</td>\n      <td>0</td>\n      <td>0</td>\n      <td>0</td>\n      <td>0</td>\n    </tr>\n    <tr>\n      <th>4</th>\n      <td>0</td>\n      <td>0</td>\n      <td>0</td>\n      <td>0</td>\n      <td>1</td>\n      <td>0</td>\n      <td>0</td>\n      <td>0</td>\n      <td>0</td>\n      <td>0</td>\n      <td>...</td>\n      <td>0</td>\n      <td>0</td>\n      <td>0</td>\n      <td>0</td>\n      <td>0</td>\n      <td>0</td>\n      <td>0</td>\n      <td>0</td>\n      <td>0</td>\n      <td>0</td>\n    </tr>\n  </tbody>\n</table>\n<p>5 rows × 57 columns</p>\n</div>"
     },
     "execution_count": 58,
     "metadata": {},
     "output_type": "execute_result"
    }
   ],
   "source": [
    "# Instantiate\n",
    "ohe = OneHotEncoder(use_cat_names=True)\n",
    "# Fit\n",
    "ohe.fit(X_train)\n",
    "# Transform\n",
    "\n",
    "XT_train = ohe.transform(X_train)\n",
    "print(XT_train.shape)\n",
    "XT_train.head()"
   ],
   "metadata": {
    "collapsed": false
   }
  },
  {
   "cell_type": "markdown",
   "source": [
    "Create a pipeline named `model` that contains a `OneHotEncoder` transformer and a `LinearRegression` predictor. Then fit the model to the training data."
   ],
   "metadata": {
    "collapsed": false
   }
  },
  {
   "cell_type": "code",
   "execution_count": 59,
   "outputs": [
    {
     "data": {
      "text/plain": "Pipeline(steps=[('onehotencoder',\n                 OneHotEncoder(cols=['neighborhood'], use_cat_names=True)),\n                ('ridge', Ridge())])"
     },
     "execution_count": 59,
     "metadata": {},
     "output_type": "execute_result"
    }
   ],
   "source": [
    "model = make_pipeline(\n",
    "    OneHotEncoder(use_cat_names=True),\n",
    "    Ridge()\n",
    ")\n",
    "\n",
    "model.fit(X_train, y_train)"
   ],
   "metadata": {
    "collapsed": false
   }
  },
  {
   "cell_type": "code",
   "execution_count": 60,
   "outputs": [],
   "source": [
    "# Check the work\n",
    "check_is_fitted(model[-1])"
   ],
   "metadata": {
    "collapsed": false
   }
  },
  {
   "cell_type": "markdown",
   "source": [
    "## Evaluate"
   ],
   "metadata": {
    "collapsed": false
   }
  },
  {
   "cell_type": "markdown",
   "source": [
    "First, create a list of predictions for the observations in the feature matrix `X_train`. Name this list `y_pred_training`. Then calculate the training mean absolute error for the predictions in `y_pred_training` as compared to the true targets in `y_train`."
   ],
   "metadata": {
    "collapsed": false
   }
  },
  {
   "cell_type": "code",
   "execution_count": 61,
   "outputs": [
    {
     "name": "stdout",
     "output_type": "stream",
     "text": [
      "Training MAE: 39350.22\n"
     ]
    }
   ],
   "source": [
    "y_pred_training = model.predict(X_train)\n",
    "mae_training = mean_absolute_error(y_train,y_pred_training)\n",
    "print(\"Training MAE:\", round(mae_training, 2))"
   ],
   "metadata": {
    "collapsed": false
   }
  },
  {
   "cell_type": "markdown",
   "source": [
    "Import the test data `buenos-aires-test-features.xlsx` into a DataFrame and generate a Series of predictions using the model."
   ],
   "metadata": {
    "collapsed": false
   }
  },
  {
   "cell_type": "code",
   "execution_count": 62,
   "outputs": [
    {
     "data": {
      "text/plain": "0    246624.694624\n1    161355.968734\n2     98232.051308\n3    110846.030377\n4    127777.538197\ndtype: float64"
     },
     "execution_count": 62,
     "metadata": {},
     "output_type": "execute_result"
    }
   ],
   "source": [
    "X_test = pd.read_excel(\"buenos-aires-test-features.xlsx\")[features]\n",
    "y_pred_test = pd.Series(model.predict(X_test))\n",
    "y_pred_test.head()"
   ],
   "metadata": {
    "collapsed": false
   }
  },
  {
   "cell_type": "markdown",
   "source": [
    "# Communicate Results"
   ],
   "metadata": {
    "collapsed": false
   }
  },
  {
   "cell_type": "markdown",
   "source": [
    "Write out the equation for the model, it'll be too big to fit on the screen. That's because, when I used the `OneHotEncoder` to encode the neighborhood data, I created a much wider DataFrame, and each column/feature has its own coefficient in my model's equation.\n",
    "\n",
    "<center><img src=\"Equation 3.png\" alt=\"Equation: y = β0 + β1 x1 + β2 x2 + ... + β59 x59 + β60 x60 \" style=\"width: 800px;\"/></center>\n",
    "\n",
    "This is a **high-dimensional** model. Instead of a 2D or 3D plot, I'd need a 58-dimensional plot to represent it, which is impossible! I'll need to extract and represent the information for my equation a little differently than before."
   ],
   "metadata": {
    "collapsed": false
   }
  },
  {
   "cell_type": "markdown",
   "source": [
    "Extract the intercept and coefficients for the model."
   ],
   "metadata": {
    "collapsed": false
   }
  },
  {
   "cell_type": "code",
   "execution_count": 63,
   "outputs": [
    {
     "name": "stdout",
     "output_type": "stream",
     "text": [
      "coefficients len: 57\n",
      "[-2.89895934e+03 -6.29555347e+00  9.25289088e+03 -4.17487330e+04\n",
      " -3.23037446e+03]\n"
     ]
    }
   ],
   "source": [
    "intercept = model.named_steps[\"ridge\"].intercept_\n",
    "coefficients = model.named_steps[\"ridge\"].coef_\n",
    "print(\"coefficients len:\", len(coefficients))\n",
    "print(coefficients[:5])  # First five coefficients"
   ],
   "metadata": {
    "collapsed": false
   }
  },
  {
   "cell_type": "markdown",
   "source": [
    "Extract the feature names of the encoded data from the `OneHotEncoder` in the model."
   ],
   "metadata": {
    "collapsed": false
   }
  },
  {
   "cell_type": "code",
   "execution_count": 64,
   "outputs": [
    {
     "name": "stdout",
     "output_type": "stream",
     "text": [
      "features len: 57\n",
      "['neighborhood_Chacarita', 'neighborhood_Villa Luro', 'neighborhood_Caballito', 'neighborhood_Constitución', 'neighborhood_Once']\n"
     ]
    }
   ],
   "source": [
    "feature_names = model.named_steps[\"onehotencoder\"].get_feature_names()\n",
    "print(\"features len:\", len(feature_names))\n",
    "print(feature_names[:5])  # First five feature names"
   ],
   "metadata": {
    "collapsed": false
   }
  },
  {
   "cell_type": "code",
   "execution_count": 65,
   "outputs": [],
   "source": [
    "# Check the work\n",
    "assert isinstance(\n",
    "    feature_names, list\n",
    "), f\"`features` should be a `list`, not {type(features)}.\"\n",
    "assert len(feature_names) == len(\n",
    "    coefficients\n",
    "), \"You should have the same number of features and coefficients.\""
   ],
   "metadata": {
    "collapsed": false
   }
  },
  {
   "cell_type": "markdown",
   "source": [
    "Create a pandas Series named `feat_imp` where the index is the `features` and the values are the `coefficients`."
   ],
   "metadata": {
    "collapsed": false
   }
  },
  {
   "cell_type": "code",
   "execution_count": 66,
   "outputs": [
    {
     "data": {
      "text/plain": "neighborhood_Chacarita       -2898.959335\nneighborhood_Villa Luro         -6.295553\nneighborhood_Caballito        9252.890876\nneighborhood_Constitución   -41748.733031\nneighborhood_Once            -3230.374461\ndtype: float64"
     },
     "execution_count": 66,
     "metadata": {},
     "output_type": "execute_result"
    }
   ],
   "source": [
    "feat_imp = pd.Series(coefficients, index=feature_names)\n",
    "feat_imp.head()"
   ],
   "metadata": {
    "collapsed": false
   }
  },
  {
   "cell_type": "code",
   "execution_count": 67,
   "outputs": [],
   "source": [
    "# Check the work\n",
    "assert isinstance(\n",
    "    feat_imp, pd.Series\n",
    "), f\"`feat_imp` should be a `float`, not {type(feat_imp)}.\"\n",
    "assert feat_imp.shape == (57,), f\"`feat_imp` is wrong shape: {feat_imp.shape}.\"\n",
    "assert all(\n",
    "    a == b for a, b in zip(sorted(feature_names), sorted(feat_imp.index))\n",
    "), \"The index of `feat_imp` should be identical to `features`.\""
   ],
   "metadata": {
    "collapsed": false
   }
  },
  {
   "cell_type": "markdown",
   "source": [
    "Print the equation that the model has determined for predicting apartment price based on longitude and latitude."
   ],
   "metadata": {
    "collapsed": false
   }
  },
  {
   "cell_type": "code",
   "execution_count": 68,
   "outputs": [
    {
     "name": "stdout",
     "output_type": "stream",
     "text": [
      "price = 118524.65\n",
      "+ (-2898.96 * neighborhood_Chacarita)\n",
      "+ (-6.3 * neighborhood_Villa Luro)\n",
      "+ (9252.89 * neighborhood_Caballito)\n",
      "+ (-41748.73 * neighborhood_Constitución)\n",
      "+ (-3230.37 * neighborhood_Once)\n",
      "+ (2903.34 * neighborhood_Almagro)\n",
      "+ (45934.41 * neighborhood_Palermo)\n",
      "+ (-8662.28 * neighborhood_Flores)\n",
      "+ (46954.21 * neighborhood_Belgrano)\n",
      "+ (-13729.1 * neighborhood_Liniers)\n",
      "+ (6277.05 * neighborhood_Villa Crespo)\n",
      "+ (-10678.63 * neighborhood_San Cristobal)\n",
      "+ (-7974.66 * neighborhood_Congreso)\n",
      "+ (14701.16 * neighborhood_Saavedra)\n",
      "+ (-11172.55 * neighborhood_Balvanera)\n",
      "+ (-29585.61 * neighborhood_Parque Avellaneda)\n",
      "+ (72740.78 * neighborhood_Recoleta)\n",
      "+ (5638.47 * neighborhood_San Telmo)\n",
      "+ (42831.32 * neighborhood_Nuñez)\n",
      "+ (55590.93 * neighborhood_Barrio Norte)\n",
      "+ (-6323.68 * neighborhood_Parque Centenario)\n",
      "+ (4330.55 * neighborhood_Abasto)\n",
      "+ (-7905.29 * neighborhood_Centro / Microcentro)\n",
      "+ (-19370.74 * neighborhood_)\n",
      "+ (-7108.23 * neighborhood_Paternal)\n",
      "+ (-21078.78 * neighborhood_Mataderos)\n",
      "+ (-48669.35 * neighborhood_Villa Lugano)\n",
      "+ (12223.11 * neighborhood_Coghlan)\n",
      "+ (72270.21 * neighborhood_Las Cañitas)\n",
      "+ (12671.71 * neighborhood_Villa Urquiza)\n",
      "+ (-20292.6 * neighborhood_Monserrat)\n",
      "+ (-8093.45 * neighborhood_Villa Pueyrredón)\n",
      "+ (-15807.01 * neighborhood_Parque Patricios)\n",
      "+ (-10734.35 * neighborhood_San Nicolás)\n",
      "+ (-12595.5 * neighborhood_Villa del Parque)\n",
      "+ (-6837.4 * neighborhood_Boedo)\n",
      "+ (-7678.62 * neighborhood_Parque Chacabuco)\n",
      "+ (-4618.66 * neighborhood_Barracas)\n",
      "+ (-32439.87 * neighborhood_Parque Chas)\n",
      "+ (38436.33 * neighborhood_Colegiales)\n",
      "+ (7714.62 * neighborhood_Villa General Mitre)\n",
      "+ (-11208.9 * neighborhood_Villa Ortuzar)\n",
      "+ (3860.58 * neighborhood_Villa Devoto)\n",
      "+ (-14088.02 * neighborhood_Floresta)\n",
      "+ (27042.61 * neighborhood_Retiro)\n",
      "+ (-4937.21 * neighborhood_Versalles)\n",
      "+ (-28353.36 * neighborhood_Boca)\n",
      "+ (128100.05 * neighborhood_Puerto Madero)\n",
      "+ (-772.7 * neighborhood_Agronomía)\n",
      "+ (-3427.44 * neighborhood_Monte Castro)\n",
      "+ (-7818.09 * neighborhood_Tribunales)\n",
      "+ (-19843.92 * neighborhood_Villa Santa Rita)\n",
      "+ (-27219.72 * neighborhood_Velez Sarsfield)\n",
      "+ (-59248.81 * neighborhood_Villa Soldati)\n",
      "+ (-7393.49 * neighborhood_Villa Real)\n",
      "+ (-43909.59 * neighborhood_Pompeya)\n",
      "+ (-22012.32 * neighborhood_Catalinas)\n"
     ]
    }
   ],
   "source": [
    "print(f\"price = {intercept.round(2)}\")\n",
    "for f, c in feat_imp.items():\n",
    "    print(f\"+ ({round(c, 2)} * {f})\")"
   ],
   "metadata": {
    "collapsed": false
   }
  },
  {
   "cell_type": "markdown",
   "source": [
    "Create a horizontal bar chart that shows the top 15 coefficients for the model, based on their absolute value."
   ],
   "metadata": {
    "collapsed": false
   }
  },
  {
   "cell_type": "code",
   "execution_count": 69,
   "outputs": [
    {
     "data": {
      "text/plain": "<Figure size 640x480 with 1 Axes>",
      "image/png": "[encoded data removed]"
     },
     "metadata": {},
     "output_type": "display_data"
    }
   ],
   "source": [
    "feat_imp.sort_values(key=abs).tail(15).plot(kind=\"barh\")\n",
    "plt.xlabel(\"Importance [USD]\")\n",
    "plt.ylabel(\"Feature\")\n",
    "plt.title(\"Feature importance for Apartment Price\");"
   ],
   "metadata": {
    "collapsed": false
   }
  },
  {
   "cell_type": "code",
   "execution_count": null,
   "outputs": [],
   "source": [],
   "metadata": {
    "collapsed": false
   }
  }
 ],
 "metadata": {
  "kernelspec": {
   "display_name": "Python 3",
   "language": "python",
   "name": "python3"
  },
  "language_info": {
   "codemirror_mode": {
    "name": "ipython",
    "version": 2
   },
   "file_extension": ".py",
   "mimetype": "text/x-python",
   "name": "python",
   "nbconvert_exporter": "python",
   "pygments_lexer": "ipython2",
   "version": "2.7.6"
  }
 },
 "nbformat": 4,
 "nbformat_minor": 0
}
